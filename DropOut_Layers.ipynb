{
  "nbformat": 4,
  "nbformat_minor": 0,
  "metadata": {
    "colab": {
      "name": "DropOut Layers.ipynb",
      "provenance": [],
      "authorship_tag": "ABX9TyMZVjJC0MEKLwrmmef9ZzaP",
      "include_colab_link": true
    },
    "kernelspec": {
      "name": "python3",
      "display_name": "Python 3"
    },
    "language_info": {
      "name": "python"
    }
  },
  "cells": [
    {
      "cell_type": "markdown",
      "metadata": {
        "id": "view-in-github",
        "colab_type": "text"
      },
      "source": [
        "<a href=\"https://colab.research.google.com/github/abdullahridwan/Machine-Learning_and_DL/blob/main/DropOut_Layers.ipynb\" target=\"_parent\"><img src=\"https://colab.research.google.com/assets/colab-badge.svg\" alt=\"Open In Colab\"/></a>"
      ]
    },
    {
      "cell_type": "code",
      "execution_count": null,
      "metadata": {
        "id": "285nZIB5I7X9"
      },
      "outputs": [],
      "source": [
        "import tensorflow as tf\n",
        "import numpy as np \n",
        "from tensorflow import keras"
      ]
    },
    {
      "cell_type": "code",
      "source": [
        "mnist = keras.datasets.mnist"
      ],
      "metadata": {
        "id": "rdz1YjXGI-bL"
      },
      "execution_count": null,
      "outputs": []
    },
    {
      "cell_type": "code",
      "source": [
        "(x_train, y_train), (x_test, y_test) = mnist.load_data()"
      ],
      "metadata": {
        "id": "NGuLQU4_JFpT"
      },
      "execution_count": 50,
      "outputs": []
    },
    {
      "cell_type": "code",
      "source": [
        "x_train.shape, x_test.shape, y_train.shape"
      ],
      "metadata": {
        "colab": {
          "base_uri": "https://localhost:8080/"
        },
        "id": "P1Zc0YsbJT3G",
        "outputId": "c66ab7d6-c346-491f-cf62-a657d73114fc"
      },
      "execution_count": 51,
      "outputs": [
        {
          "output_type": "execute_result",
          "data": {
            "text/plain": [
              "((60000, 28, 28), (10000, 28, 28), (60000,))"
            ]
          },
          "metadata": {},
          "execution_count": 51
        }
      ]
    },
    {
      "cell_type": "code",
      "source": [
        "#Parameters\n",
        "RESHAPED = 28*28\n",
        "N_HIDDEN = 120\n",
        "NB_CLASSES = 10\n",
        "DROP_RATE = 0.4\n",
        "BATCH_SIZE = 100\n",
        "EPOCHS = 20"
      ],
      "metadata": {
        "id": "0EX3_csEKfkT"
      },
      "execution_count": 52,
      "outputs": []
    },
    {
      "cell_type": "code",
      "source": [
        "#Reshape and normalize Images\n",
        "x_train = x_train.reshape(60000, RESHAPED  )\n",
        "x_test = x_test.reshape(10000, RESHAPED  )\n",
        "x_train = x_train.astype('float32')\n",
        "x_test = x_test.astype('float32')\n",
        "x_train /= 255.0\n",
        "x_test /= 255.0"
      ],
      "metadata": {
        "id": "J3iW1S_2JJ5W"
      },
      "execution_count": 53,
      "outputs": []
    },
    {
      "cell_type": "code",
      "source": [
        "y_train = tf.keras.utils.to_categorical(y_train, NB_CLASSES)\n",
        "y_test = tf.keras.utils.to_categorical(y_test, NB_CLASSES)\n",
        "y_train.shape"
      ],
      "metadata": {
        "colab": {
          "base_uri": "https://localhost:8080/"
        },
        "id": "zmLLoriQMvdC",
        "outputId": "7b3bf7cc-57e2-4d39-a6db-5e86dfe6afed"
      },
      "execution_count": 54,
      "outputs": [
        {
          "output_type": "execute_result",
          "data": {
            "text/plain": [
              "(60000, 10)"
            ]
          },
          "metadata": {},
          "execution_count": 54
        }
      ]
    },
    {
      "cell_type": "code",
      "source": [
        "#Create Model \n",
        "model = tf.keras.models.Sequential([\n",
        "    tf.keras.layers.Dense(N_HIDDEN, activation=\"relu\", name=\"dense_layer_1\"),\n",
        "    tf.keras.layers.Dropout(DROP_RATE),\n",
        "    tf.keras.layers.Dense(N_HIDDEN, activation=\"relu\", name=\"dense_layer_2\"),\n",
        "    tf.keras.layers.Dropout(DROP_RATE),\n",
        "    tf.keras.layers.Dense(NB_CLASSES, activation = \"softmax\", name=\"classes_layer\")\n",
        "])"
      ],
      "metadata": {
        "id": "12yXi-X5J7iZ"
      },
      "execution_count": 55,
      "outputs": []
    },
    {
      "cell_type": "code",
      "source": [
        "# train: compile and fit\n",
        "model.compile(optimizer = \"SGD\", loss=\"categorical_crossentropy\", metrics=['accuracy'])\n",
        "model.fit(x_train, y_train, batch_size = BATCH_SIZE, epochs = EPOCHS )"
      ],
      "metadata": {
        "id": "q5Mj7aS8KUg7",
        "colab": {
          "base_uri": "https://localhost:8080/"
        },
        "outputId": "ff1f5e4c-e93e-49f8-de39-daccdd25def8"
      },
      "execution_count": 56,
      "outputs": [
        {
          "output_type": "stream",
          "name": "stdout",
          "text": [
            "Epoch 1/20\n",
            "600/600 [==============================] - 3s 4ms/step - loss: 1.5444 - accuracy: 0.4986\n",
            "Epoch 2/20\n",
            "600/600 [==============================] - 2s 4ms/step - loss: 0.8245 - accuracy: 0.7417\n",
            "Epoch 3/20\n",
            "600/600 [==============================] - 2s 4ms/step - loss: 0.6499 - accuracy: 0.7999\n",
            "Epoch 4/20\n",
            "600/600 [==============================] - 2s 4ms/step - loss: 0.5566 - accuracy: 0.8311\n",
            "Epoch 5/20\n",
            "600/600 [==============================] - 2s 4ms/step - loss: 0.5049 - accuracy: 0.8476\n",
            "Epoch 6/20\n",
            "600/600 [==============================] - 2s 4ms/step - loss: 0.4657 - accuracy: 0.8602\n",
            "Epoch 7/20\n",
            "600/600 [==============================] - 3s 4ms/step - loss: 0.4375 - accuracy: 0.8703\n",
            "Epoch 8/20\n",
            "600/600 [==============================] - 3s 5ms/step - loss: 0.4087 - accuracy: 0.8788\n",
            "Epoch 9/20\n",
            "600/600 [==============================] - 3s 4ms/step - loss: 0.3916 - accuracy: 0.8844\n",
            "Epoch 10/20\n",
            "600/600 [==============================] - 2s 4ms/step - loss: 0.3746 - accuracy: 0.8892\n",
            "Epoch 11/20\n",
            "600/600 [==============================] - 2s 4ms/step - loss: 0.3590 - accuracy: 0.8948\n",
            "Epoch 12/20\n",
            "600/600 [==============================] - 2s 4ms/step - loss: 0.3435 - accuracy: 0.8987\n",
            "Epoch 13/20\n",
            "600/600 [==============================] - 2s 4ms/step - loss: 0.3342 - accuracy: 0.9022\n",
            "Epoch 14/20\n",
            "600/600 [==============================] - 2s 4ms/step - loss: 0.3209 - accuracy: 0.9064\n",
            "Epoch 15/20\n",
            "600/600 [==============================] - 3s 4ms/step - loss: 0.3121 - accuracy: 0.9094\n",
            "Epoch 16/20\n",
            "600/600 [==============================] - 2s 4ms/step - loss: 0.3061 - accuracy: 0.9110\n",
            "Epoch 17/20\n",
            "600/600 [==============================] - 2s 4ms/step - loss: 0.2992 - accuracy: 0.9133\n",
            "Epoch 18/20\n",
            "600/600 [==============================] - 2s 4ms/step - loss: 0.2889 - accuracy: 0.9165\n",
            "Epoch 19/20\n",
            "600/600 [==============================] - 2s 4ms/step - loss: 0.2770 - accuracy: 0.9191\n",
            "Epoch 20/20\n",
            "600/600 [==============================] - 2s 4ms/step - loss: 0.2754 - accuracy: 0.9197\n"
          ]
        },
        {
          "output_type": "execute_result",
          "data": {
            "text/plain": [
              "<keras.callbacks.History at 0x7fc7a57ca9d0>"
            ]
          },
          "metadata": {},
          "execution_count": 56
        }
      ]
    },
    {
      "cell_type": "code",
      "source": [
        "# evaluate\n",
        "test_loss, test_acc = model.evaluate(x_test, y_test)\n",
        "print(\"Accuracy: \", test_acc)"
      ],
      "metadata": {
        "colab": {
          "base_uri": "https://localhost:8080/"
        },
        "id": "e7AhrPfHOIFb",
        "outputId": "ddc1c9c5-3fed-4325-9b14-b0846764dcb8"
      },
      "execution_count": 57,
      "outputs": [
        {
          "output_type": "stream",
          "name": "stdout",
          "text": [
            "313/313 [==============================] - 1s 2ms/step - loss: 0.1667 - accuracy: 0.9487\n",
            "Accuracy:  0.9487000107765198\n"
          ]
        }
      ]
    },
    {
      "cell_type": "code",
      "source": [
        ""
      ],
      "metadata": {
        "id": "xkDzSS2FOdvf"
      },
      "execution_count": null,
      "outputs": []
    }
  ]
}